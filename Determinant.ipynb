{
 "cells": [
  {
   "cell_type": "markdown",
   "metadata": {},
   "source": [
    "# Creating a function to compute the determinant of a NxN matrix\n",
    "___"
   ]
  },
  {
   "cell_type": "markdown",
   "metadata": {},
   "source": [
    "This is done using the recursive definition of the determinant of a matrix. <br>\n",
    "the problem is reduced to a lot of 2x2 determinants and solved using the normal method for evaluating 2x2 determinants. <br>\n",
    "runtime: $O(n!)$"
   ]
  },
  {
   "cell_type": "markdown",
   "metadata": {},
   "source": [
    "For an $N \\times N$ matrix called $A$<br>\n",
    "\n",
    "$A = \\begin{bmatrix}\n",
    "    x_{11}       & x_{12} & x_{13} & \\dots & x_{1n} \\\\\n",
    "    x_{21}       & x_{22} & x_{23} & \\dots & x_{2n} \\\\\n",
    "    \\vdots & \\vdots \\\\\n",
    "    x_{n1}       & x_{n2} & x_{n3} & \\dots & x_{nn}\n",
    "\\end{bmatrix}$\n",
    "\n",
    "One way to evaluate it's determinant is $\\large\\sum_{j=1}^{n}x_{1j} \\times det(A_{1j}) \\times (-1)^{j + 1}$ <br>\n",
    "Notice that the term $(-1)^{j + 1}$ just means alternating the sign. <br>\n",
    "Where $A_{1j}$ is the submatrix of $A$ where the 1st row and $j$th column have been removed. <br>\n",
    "in different notation: <br>\n",
    "\n",
    "$ det(A) = \n",
    "x_{11} \\times \n",
    "\\begin{vmatrix}\n",
    "    x_{22} & x_{23} & \\dots & x_{2n} \\\\\n",
    "    x_{32} & x_{33}  & \\dots & x_{3n}\\\\\n",
    "    \\vdots & \\vdots \\\\\n",
    "    x_{n2} & x_{n3} & \\dots & x_{nn}\n",
    "\\end{vmatrix} - \n",
    "x_{12} \\times\n",
    "\\begin{vmatrix}\n",
    "    x_{21} & x_{23} & \\dots & x_{2n} \\\\\n",
    "    x_{31} & x_{33}  & \\dots & x_{3n}\\\\\n",
    "    \\vdots & \\vdots \\\\\n",
    "    x_{n1} & x_{n3} & \\dots & x_{nn}\n",
    "\\end{vmatrix} + x_{13} \\times\n",
    "\\begin{vmatrix}\n",
    "    x_{21} & x_{22} & \\dots & x_{2n} \\\\\n",
    "    x_{31} & x_{32}  & \\dots & x_{3n}\\\\\n",
    "    \\vdots & \\vdots \\\\\n",
    "    x_{n1} & x_{n2} & \\dots & x_{nn}\n",
    "\\end{vmatrix}... + (-1)^{j+1} \\times x_{1j} \\times\n",
    "\\begin{vmatrix}\n",
    "    x_{21} & \\dots & x_{2j-1} & x_{2j+1} & \\dots & x_{2n} \\\\\n",
    "    x_{31} & \\dots & x_{3j-1} & x_{3j+1} & \\dots & x_{3n}\\\\\n",
    "    \\vdots & \\vdots \\\\\n",
    "    x_{n1} & \\dots & x_{nj-1} & x_{nj+1} & \\dots & x_{nn}\n",
    "\\end{vmatrix}$\n",
    "\n",
    "Notice that this is a recursive definition and it requires a base case. <br>\n",
    "The base case is for the $2 \\times 2$ matrix. <br>\n",
    "\n",
    "For a $2 \\times 2$ matrix it's determinant is: <br>\n",
    "\n",
    "$det(\n",
    "\\begin{bmatrix}\n",
    "    a & b \\\\\n",
    "    c & d\n",
    "\\end{bmatrix}) = \n",
    "\\begin{vmatrix}\n",
    "    a & b \\\\\n",
    "    c & d\n",
    "\\end{vmatrix} = ad - bc$\n",
    "\n",
    "knowing this we can write a recursive function that uses this recursive definition to reduce the problem to a lot of $2 \\times 2$ determinants."
   ]
  },
  {
   "cell_type": "markdown",
   "metadata": {},
   "source": [
    "## My implementation\n",
    "___"
   ]
  },
  {
   "cell_type": "code",
   "execution_count": 1,
   "metadata": {},
   "outputs": [],
   "source": [
    "import numpy as np"
   ]
  },
  {
   "cell_type": "code",
   "execution_count": 2,
   "metadata": {},
   "outputs": [],
   "source": [
    "# this function raises a number to a power\n",
    "def power(num, pow):\n",
    "    toret = 1\n",
    "    for i in range(pow):\n",
    "        toret *= num\n",
    "    return toret\n",
    "\n",
    "def det(matrix):\n",
    "    \"\"\"This function finds the determinant of the matrix\n",
    "        matrix: The matrix we will be computing the determinant of\n",
    "    \"\"\" \n",
    "    if matrix.shape == (2, 2): # base case for recursion\n",
    "        return (matrix[0, 0] * matrix[1, 1]) - (matrix[0, 1] * matrix[1, 0]) # 2x2 matrix determinant\n",
    "        \n",
    "    else:\n",
    "        s = matrix[0].shape[0] # getting N i.e the size of the matrix\n",
    "        sum_ = 0 \n",
    "        for index, num in enumerate(matrix[0]):\n",
    "            indexes = []\n",
    "            for i in range(s):\n",
    "                indexes.append(i)\n",
    "            indexes.pop(index)\n",
    "            mat = matrix[1:, indexes] # constructing submatrix\n",
    "            sum_ += power(-1, index + 2) * num * det(mat) # recursive call\n",
    "\n",
    "        return sum_"
   ]
  },
  {
   "cell_type": "markdown",
   "metadata": {},
   "source": [
    "# Testing det function\n",
    "___"
   ]
  },
  {
   "cell_type": "markdown",
   "metadata": {},
   "source": [
    "I used examples found on the web to see if my function was working as expected."
   ]
  },
  {
   "cell_type": "code",
   "execution_count": 3,
   "metadata": {},
   "outputs": [
    {
     "data": {
      "text/plain": [
       "True"
      ]
     },
     "execution_count": 3,
     "metadata": {},
     "output_type": "execute_result"
    }
   ],
   "source": [
    "# test case 1\n",
    "2480 == det(np.array([[0, 6, -2, -1, 5],\n",
    "              [0, 0, 0, -9, -7],\n",
    "              [0, 15, 35, 0, 0],\n",
    "              [0, -1, -11, -2, 1],\n",
    "              [-2, -2, 3, 0, -2]]))"
   ]
  },
  {
   "cell_type": "code",
   "execution_count": 4,
   "metadata": {},
   "outputs": [
    {
     "data": {
      "text/plain": [
       "True"
      ]
     },
     "execution_count": 4,
     "metadata": {},
     "output_type": "execute_result"
    }
   ],
   "source": [
    "# test case 2\n",
    "-42 == det(np.array([[1, 2, 2, 1],\n",
    "             [1, 2, 4, 2],\n",
    "             [2, 7, 5, 2],\n",
    "             [-1, 4, -6, 3]]))"
   ]
  },
  {
   "cell_type": "code",
   "execution_count": 5,
   "metadata": {},
   "outputs": [
    {
     "data": {
      "text/plain": [
       "True"
      ]
     },
     "execution_count": 5,
     "metadata": {},
     "output_type": "execute_result"
    }
   ],
   "source": [
    "# test case 3\n",
    "-108 == det(np.array([[4, 2, 6],\n",
    "             [-1, -4, 5],\n",
    "             [3, 7, 2]]))"
   ]
  },
  {
   "cell_type": "code",
   "execution_count": 6,
   "metadata": {},
   "outputs": [
    {
     "data": {
      "text/plain": [
       "True"
      ]
     },
     "execution_count": 6,
     "metadata": {},
     "output_type": "execute_result"
    }
   ],
   "source": [
    "# test case 4\n",
    "17 == det(np.array([[2, -3, 5],\n",
    "             [-3, 6, 2],\n",
    "             [1, -2, 5]]))"
   ]
  },
  {
   "cell_type": "code",
   "execution_count": 7,
   "metadata": {},
   "outputs": [
    {
     "data": {
      "text/plain": [
       "True"
      ]
     },
     "execution_count": 7,
     "metadata": {},
     "output_type": "execute_result"
    }
   ],
   "source": [
    "# test case 5\n",
    "40 == det(np.array([[3, 4, 1],\n",
    "             [2, 5, -2],\n",
    "             [-1, 6, -3]]))"
   ]
  },
  {
   "cell_type": "markdown",
   "metadata": {},
   "source": [
    "## Timing runtime for different sizes of matrices\n",
    "___"
   ]
  },
  {
   "cell_type": "code",
   "execution_count": 8,
   "metadata": {},
   "outputs": [
    {
     "name": "stdout",
     "output_type": "stream",
     "text": [
      "Size: 2x2\tTime: 0.0\t Value:0.3670521541243064\n",
      "Size: 3x3\tTime: 0.0\t Value:0.21794140488949246\n",
      "Size: 4x4\tTime: 0.0\t Value:0.09852883832734495\n",
      "Size: 5x5\tTime: 0.0020089149475097656\t Value:-0.03429647280703714\n",
      "Size: 6x6\tTime: 0.006967306137084961\t Value:0.0033012249391582565\n",
      "Size: 7x7\tTime: 0.034906864166259766\t Value:-0.025166935378539396\n",
      "Size: 8x8\tTime: 0.19647216796875\t Value:0.057557188374836164\n",
      "Size: 9x9\tTime: 1.6961817741394043\t Value:-0.05799169700520237\n",
      "Size: 10x10\tTime: 17.20955467224121\t Value:-0.004637739630214101\n"
     ]
    }
   ],
   "source": [
    "import time \n",
    "\n",
    "a = None\n",
    "for i in range(9):\n",
    "    a = np.random.rand(i+2, i+2) # generate random matrix\n",
    "    start = time.time() # get  starting time\n",
    "    b = det(a) # get the determinant\n",
    "    end = time.time() # get ending time\n",
    "    print(\"Size: {}x{}\\tTime: {}\\t Value:{}\".format(i + 2, i + 2, end - start, b))"
   ]
  },
  {
   "cell_type": "markdown",
   "metadata": {},
   "source": [
    "As seen the runtime for $n$ is about $n \\times runtime(n - 1)$"
   ]
  }
 ],
 "metadata": {
  "kernelspec": {
   "display_name": "Python [conda env:computer_vision]",
   "language": "python",
   "name": "conda-env-computer_vision-py"
  },
  "language_info": {
   "codemirror_mode": {
    "name": "ipython",
    "version": 3
   },
   "file_extension": ".py",
   "mimetype": "text/x-python",
   "name": "python",
   "nbconvert_exporter": "python",
   "pygments_lexer": "ipython3",
   "version": "3.6.7"
  }
 },
 "nbformat": 4,
 "nbformat_minor": 2
}
